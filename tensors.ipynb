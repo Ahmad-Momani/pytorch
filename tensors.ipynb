{
  "nbformat": 4,
  "nbformat_minor": 0,
  "metadata": {
    "colab": {
      "name": "Untitled1.ipynb",
      "provenance": [],
      "include_colab_link": true
    },
    "kernelspec": {
      "name": "python3",
      "display_name": "Python 3"
    }
  },
  "cells": [
    {
      "cell_type": "markdown",
      "metadata": {
        "id": "view-in-github",
        "colab_type": "text"
      },
      "source": [
        "<a href=\"https://colab.research.google.com/github/Ahmad-Momani/pytorch/blob/main/tensors.ipynb\" target=\"_parent\"><img src=\"https://colab.research.google.com/assets/colab-badge.svg\" alt=\"Open In Colab\"/></a>"
      ]
    },
    {
      "cell_type": "code",
      "metadata": {
        "id": "2OflJCJ6ueUM"
      },
      "source": [
        "import torch\n",
        "import numpy as np\n",
        "\n",
        "# also see https://pytorch.org/docs/stable/tensors.html"
      ],
      "execution_count": 1,
      "outputs": []
    },
    {
      "cell_type": "markdown",
      "metadata": {
        "id": "6y7ukoH8fn-F"
      },
      "source": [
        "**Tensors Initialization**"
      ]
    },
    {
      "cell_type": "code",
      "metadata": {
        "colab": {
          "base_uri": "https://localhost:8080/"
        },
        "id": "VQk0dy9zfG2f",
        "outputId": "89bf30b7-d16b-4722-bf28-679f8f97bf02"
      },
      "source": [
        "# using creation operation: torch.*(shape), *:creation operation like ones and zeros\n",
        "# aslo see https://pytorch.org/docs/stable/torch.html#tensor-creation-ops\n",
        "shape = (2,3)\n",
        "tensor1 = torch.ones(shape)\n",
        "# from data\n",
        "      # pre-existing data: torch.tensor(data)\n",
        "tensor2 = torch.tensor([[1., -1.], [1., -1.]])\n",
        "      # pre-existing numpy array: torch.from_numpy(np_array)\n",
        "tensor3 = torch.tensor(np.array([[1, 2, 3], [4, 5, 6]]))\n",
        "      # from another tensor: \n",
        "         # torch.*_like(x_data), *:creation operation \n",
        "tensor4 = torch.ones_like(tensor3)\n",
        "         # tensor.new_*(shape) : the returned Tensor has the same torch.dtype and torch.device as this tensor\n",
        "tensor5 = tensor4.new_zeros((3,3))\n",
        "\n",
        "print(tensor1)\n",
        "print(tensor2)\n",
        "print(tensor3)\n",
        "print(tensor4)\n",
        "print(tensor5)"
      ],
      "execution_count": 13,
      "outputs": [
        {
          "output_type": "stream",
          "name": "stdout",
          "text": [
            "tensor([[1., 1., 1.],\n",
            "        [1., 1., 1.]])\n",
            "tensor([[ 1., -1.],\n",
            "        [ 1., -1.]])\n",
            "tensor([[1, 2, 3],\n",
            "        [4, 5, 6]])\n",
            "tensor([[1, 1, 1],\n",
            "        [1, 1, 1]])\n",
            "tensor([[0, 0, 0],\n",
            "        [0, 0, 0],\n",
            "        [0, 0, 0]])\n"
          ]
        }
      ]
    },
    {
      "cell_type": "markdown",
      "metadata": {
        "id": "KYSVFrkByFw7"
      },
      "source": [
        "**Operations on Tensors**"
      ]
    },
    {
      "cell_type": "code",
      "metadata": {
        "id": "KAtJhEyiyNq1"
      },
      "source": [
        ""
      ],
      "execution_count": null,
      "outputs": []
    }
  ]
}