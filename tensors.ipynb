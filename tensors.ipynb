{
  "nbformat": 4,
  "nbformat_minor": 0,
  "metadata": {
    "colab": {
      "name": "Untitled1.ipynb",
      "provenance": [],
      "include_colab_link": true
    },
    "kernelspec": {
      "name": "python3",
      "display_name": "Python 3"
    }
  },
  "cells": [
    {
      "cell_type": "markdown",
      "metadata": {
        "id": "view-in-github",
        "colab_type": "text"
      },
      "source": [
        "<a href=\"https://colab.research.google.com/github/Ahmad-Momani/pytorch/blob/main/tensors.ipynb\" target=\"_parent\"><img src=\"https://colab.research.google.com/assets/colab-badge.svg\" alt=\"Open In Colab\"/></a>"
      ]
    },
    {
      "cell_type": "code",
      "metadata": {
        "id": "2OflJCJ6ueUM"
      },
      "source": [
        "import torch\n",
        "import numpy as np"
      ],
      "execution_count": 1,
      "outputs": []
    },
    {
      "cell_type": "markdown",
      "metadata": {
        "id": "6y7ukoH8fn-F"
      },
      "source": [
        "**Tensors Initialization**"
      ]
    },
    {
      "cell_type": "code",
      "metadata": {
        "id": "VQk0dy9zfG2f"
      },
      "source": [
        "# from data\n",
        "      # normal array\n",
        "      # numpy array\n",
        "      # from another tensor\n",
        "# random or constant initialization"
      ],
      "execution_count": null,
      "outputs": []
    }
  ]
}