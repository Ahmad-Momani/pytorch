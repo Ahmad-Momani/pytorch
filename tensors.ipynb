{
  "nbformat": 4,
  "nbformat_minor": 0,
  "metadata": {
    "colab": {
      "name": "Untitled1.ipynb",
      "provenance": [],
      "include_colab_link": true
    },
    "kernelspec": {
      "name": "python3",
      "display_name": "Python 3"
    }
  },
  "cells": [
    {
      "cell_type": "markdown",
      "metadata": {
        "id": "view-in-github",
        "colab_type": "text"
      },
      "source": [
        "<a href=\"https://colab.research.google.com/github/Ahmad-Momani/pytorch/blob/main/tensors.ipynb\" target=\"_parent\"><img src=\"https://colab.research.google.com/assets/colab-badge.svg\" alt=\"Open In Colab\"/></a>"
      ]
    },
    {
      "cell_type": "code",
      "metadata": {
        "id": "2OflJCJ6ueUM"
      },
      "source": [
        "import torch\n",
        "import numpy as np\n",
        "\n",
        "# also see https://pytorch.org/docs/stable/tensors.html"
      ],
      "execution_count": 1,
      "outputs": []
    },
    {
      "cell_type": "markdown",
      "metadata": {
        "id": "6y7ukoH8fn-F"
      },
      "source": [
        "**Tensors Initialization**"
      ]
    },
    {
      "cell_type": "code",
      "metadata": {
        "colab": {
          "base_uri": "https://localhost:8080/"
        },
        "id": "VQk0dy9zfG2f",
        "outputId": "5f7dd971-57b0-45c0-d7c3-45af77912554"
      },
      "source": [
        "# using creation operation: torch.*(shape), *:creation operation like ones and zeros\n",
        "# aslo see https://pytorch.org/docs/stable/torch.html#tensor-creation-ops\n",
        "shape = (2,3)\n",
        "ones_tensor = torch.ones(shape)\n",
        "print(ones_tensor)\n",
        "# from data\n",
        "      # pre-existing data: torch.tensor(data)\n",
        "      # pre-existing numpy array: torch.from_numpy(np_array)\n",
        "      # from another tensor: \n",
        "         # torch.*_like(x_data), *:creation operation \n",
        "         # tensor.new_* : the returned Tensor has the same torch.dtype and torch.device as this tensor"
      ],
      "execution_count": 7,
      "outputs": [
        {
          "output_type": "stream",
          "name": "stdout",
          "text": [
            "tensor([[0.3314, 0.5754, 0.6505],\n",
            "        [0.2729, 0.0783, 0.9042]])\n",
            "tensor([[1., 1., 1.],\n",
            "        [1., 1., 1.]])\n",
            "tensor([[0., 0., 0.],\n",
            "        [0., 0., 0.]])\n"
          ]
        }
      ]
    }
  ]
}